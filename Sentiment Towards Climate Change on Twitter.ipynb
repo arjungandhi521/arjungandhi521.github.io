{
 "cells": [
  {
   "cell_type": "markdown",
   "metadata": {},
   "source": [
    "# 1) Data Collection\n",
    "I am starting off with a data set from Harvard that contains 39.6 million tweets related to climate change. The data set is in tweet IDs (numbers) so I need get the tweets for each tweet ID.\n",
    "\n",
    "Here is the link the data set: https://dataverse.harvard.edu/dataset.xhtml?persistentId=doi:10.7910/DVN/5QCCUU\n",
    "\n",
    "As states in the above link the data is from September 21, 2017 and May 17, 2019 and they had a gap in data collection from January 7, 2019 to April 17, 2019.\n",
    "\n",
    "To convert each tweet ID into the actual tweet data I am using this: Hydrator [Computer Software]. Retrieved from https://github.com/docnow/hydrator\n",
    "\n",
    "From the above repo, I downloaded this version of the app: https://github.com/DocNow/hydrator/releases/tag/v0.0.13\n",
    "\n",
    "The tweets are seperated by file (~ 10 million tweets/file). I made a Twitter account to connect my account this Hydrator. I then uploaded each txt file into Hydrator under \"Datasets\" in the desktop app. NOTE: because of API rate limits and the shear number of tweets this will take a long time to get all the tweets. I stores them in a jsonl file for each dataset (which they are 4) that you upload. \n",
    "\n",
    "TALK ABOUT THEIR METHODOLOGY"
   ]
  },
  {
   "cell_type": "code",
   "execution_count": 8,
   "metadata": {},
   "outputs": [
    {
     "data": {
      "text/plain": [
       "0       Action on climate change and equality https://...\n",
       "1       Cashing Out From the Climate Casino https://t....\n",
       "2       \"Literally©, nailed on logic......\" 🤔 https://...\n",
       "3       @ScottMorrisonMP, the friend of coal, should b...\n",
       "4       On the eve of #EarthDay, scientists are still ...\n",
       "                              ...                        \n",
       "7949           Climate Change Man https://t.co/gMtTN1RwMi\n",
       "7950    @FUN927 on tv soon Dancing with the Moscow-vit...\n",
       "7951    #Resurge2018 @PresidentIRL president Higgins s...\n",
       "7952    @AirForceReserve https://t.co/TUS9HWGz6p We ne...\n",
       "7953    Not just cow slaughter, no animal should be sl...\n",
       "Name: text, Length: 7954, dtype: object"
      ]
     },
     "execution_count": 8,
     "metadata": {},
     "output_type": "execute_result"
    }
   ],
   "source": [
    "import pandas as pd\n",
    "df = pd.read_csv(\"./data/tweet-ids-001.csv\")\n",
    "df[\"text\"] # actual content of tweet"
   ]
  },
  {
   "cell_type": "code",
   "execution_count": null,
   "metadata": {},
   "outputs": [],
   "source": []
  }
 ],
 "metadata": {
  "kernelspec": {
   "display_name": "Python 3",
   "language": "python",
   "name": "python3"
  },
  "language_info": {
   "codemirror_mode": {
    "name": "ipython",
    "version": 3
   },
   "file_extension": ".py",
   "mimetype": "text/x-python",
   "name": "python",
   "nbconvert_exporter": "python",
   "pygments_lexer": "ipython3",
   "version": "3.8.5"
  }
 },
 "nbformat": 4,
 "nbformat_minor": 4
}
